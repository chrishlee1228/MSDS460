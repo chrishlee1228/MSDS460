{
 "cells": [
  {
   "cell_type": "markdown",
   "metadata": {},
   "source": [
    "# You are moving from New Jersey to California and have rented a truck that can haul up to 1,100 cubic feet of furniture.  The volume and value of each item you are considering moving on the truck is given below. \n",
    "\n",
    "Which items should you take to California using the knapsack problem formulation? \n",
    "However, what unrealistic assumptions are you making about this real-life problem by using the knapsack problem? \n",
    " \n",
    "\n",
    "Item\tValue ()\tVolume (Cubic Feet)\n",
    "Bedroom set\t60\t800\n",
    "Dining room set\t48\t600\n",
    "Gaming computer\t14\t300\n",
    "Sofa\t31\t400\n",
    "TV\t10\t200\n",
    "Think about your work environment. Is there a problem you can think of that could be addressed as a knapsack problem? Describe this problem and how you might address it?"
   ]
  },
  {
   "cell_type": "code",
   "execution_count": 9,
   "metadata": {},
   "outputs": [
    {
     "name": "stdout",
     "output_type": "stream",
     "text": [
      "Problem\n",
      "status=Optimal\n",
      "bed = 0.0\n",
      "din = 1.0\n",
      "gam = 0.0\n",
      "sof = 1.0\n",
      "tv = 0.0\n",
      "Objective = 79.0\n",
      "\n"
     ]
    }
   ],
   "source": [
    "from pulp import LpVariable as lpv, LpProblem as lpp, LpMaximize, LpStatus, value, LpMinimize\n",
    "\n",
    "#variable define\n",
    "bed = lpv(\"bed\",0,1,cat='Integer')\n",
    "din = lpv(\"din\",0,1,cat='Integer')\n",
    "gam = lpv(\"gam\",0,1,cat='Integer')\n",
    "sof = lpv(\"sof\",0,1,cat='Integer') \n",
    "tv = lpv(\"tv\",0,1,cat='Integer')\n",
    "\n",
    "#problem define\n",
    "prob= lpp(\"problem\",LpMaximize)\n",
    "\n",
    "#objective function\n",
    "prob += 60*bed + 48*din + 14*gam + 31*sof + tv*10\n",
    "\n",
    "#constraint define\n",
    "prob += 800*bed + 600*din + 300*gam + 400*sof + 200*tv <= 1100\n",
    "\n",
    "#solve problem\n",
    "status = prob.solve()\n",
    "print(f\"Problem\")\n",
    "print(f\"status={LpStatus[status]}\")\n",
    "\n",
    "#print results\n",
    "for var in prob.variables():\n",
    "    print(f\"{var.name} = {var.varValue}\")\n",
    "\n",
    "print(f\"Objective = {value(prob.objective)}\")\n",
    "print(f\"\")\n"
   ]
  },
  {
   "cell_type": "code",
   "execution_count": null,
   "metadata": {},
   "outputs": [],
   "source": []
  }
 ],
 "metadata": {
  "kernelspec": {
   "display_name": "Python 3",
   "language": "python",
   "name": "python3"
  },
  "language_info": {
   "codemirror_mode": {
    "name": "ipython",
    "version": 3
   },
   "file_extension": ".py",
   "mimetype": "text/x-python",
   "name": "python",
   "nbconvert_exporter": "python",
   "pygments_lexer": "ipython3",
   "version": "3.7.3"
  }
 },
 "nbformat": 4,
 "nbformat_minor": 2
}
